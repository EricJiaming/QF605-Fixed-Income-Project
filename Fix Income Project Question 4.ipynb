{
 "cells": [
  {
   "cell_type": "code",
   "execution_count": 6,
   "id": "8d31795c",
   "metadata": {},
   "outputs": [],
   "source": [
    "import numpy as np\n",
    "import pandas as pd\n",
    "from scipy.stats import norm\n",
    "from scipy.integrate import quad\n",
    "import matplotlib.pylab as plt\n",
    "from math import log, sqrt, exp"
   ]
  },
  {
   "cell_type": "code",
   "execution_count": 7,
   "id": "e4579aee",
   "metadata": {},
   "outputs": [],
   "source": [
    "def Black76Call(S, K,disc, sigma, T):\n",
    "    d1 = (np.log(S/K)+sigma**2/2*T) / (sigma*np.sqrt(T))\n",
    "    d2 = d1 - sigma*np.sqrt(T)\n",
    "    return disc*(S*norm.cdf(d1) - K*norm.cdf(d2))\n",
    "\n",
    "def Black76Put(S, K, disc,sigma, T):\n",
    "    d1 = (np.log(S/K)+sigma**2/2*T) / (sigma*np.sqrt(T))\n",
    "    d2 = d1 - sigma*np.sqrt(T)\n",
    "    return disc*(K*norm.cdf(-d2) - S*norm.cdf(-d1))\n",
    "\n",
    "def SABR(F, K, T, alpha, beta, rho, nu):\n",
    "    X = K\n",
    "    # if K is at-the-money-forward\n",
    "    if abs(F - K) < 1e-12:\n",
    "        numer1 = (((1 - beta)**2)/24)*alpha*alpha/(F**(2 - 2*beta))\n",
    "        numer2 = 0.25*rho*beta*nu*alpha/(F**(1 - beta))\n",
    "        numer3 = ((2 - 3*rho*rho)/24)*nu*nu\n",
    "        VolAtm = alpha*(1 + (numer1 + numer2 + numer3)*T)/(F**(1-beta))\n",
    "        sabrsigma = VolAtm\n",
    "    else:\n",
    "        z = (nu/alpha)*((F*X)**(0.5*(1-beta)))*log(F/X)\n",
    "        zhi = log((((1 - 2*rho*z + z*z)**0.5) + z - rho)/(1 - rho))\n",
    "        numer1 = (((1 - beta)**2)/24)*((alpha*alpha)/((F*X)**(1 - beta)))\n",
    "        numer2 = 0.25*rho*beta*nu*alpha/((F*X)**((1 - beta)/2))\n",
    "        numer3 = ((2 - 3*rho*rho)/24)*nu*nu\n",
    "        numer = alpha*(1 + (numer1 + numer2 + numer3)*T)*z\n",
    "        denom1 = ((1 - beta)**2/24)*(log(F/X))**2\n",
    "        denom2 = (((1 - beta)**4)/1920)*((log(F/X))**4)\n",
    "        denom = ((F*X)**((1 - beta)/2))*(1 + denom1 + denom2)*zhi\n",
    "        sabrsigma = numer/denom\n",
    "\n",
    "    return sabrsigma"
   ]
  },
  {
   "cell_type": "code",
   "execution_count": 3,
   "id": "45802f81",
   "metadata": {},
   "outputs": [],
   "source": [
    "def IRR(x,N,m):\n",
    "    IRR=np.zeros(N*m)\n",
    "    IRRS=0\n",
    "    for i in range(N*m):\n",
    "        IRR[i]= 1/m / (1+x/m)**i\n",
    "    IRRS=np.sum(IRR[:])\n",
    "    return IRRS\n",
    "\n",
    "def IRRf(x,N,m):\n",
    "    dx = 0.05 * x\n",
    "    IRRplus= IRR(x+dx,N,m)\n",
    "    IRRminus = IRR (x-dx,N,m)\n",
    "    IRRf = (IRRplus - IRRminus) / (2*dx)\n",
    "    return IRRf\n",
    "\n",
    "def IRRff(x,N,m):\n",
    "    dx = 0.05 * x\n",
    "    IRRplus= IRR(x+dx,N,m)\n",
    "    IRRx = IRR(x,N,m)\n",
    "    IRRminus = IRR (x-dx,N,m)\n",
    "    IRRff = (IRRplus - 2*IRRx + IRRminus) / (dx**2)\n",
    "    return IRRff\n",
    "\n",
    "def hf(x, N, m):\n",
    "    term1 = IRR(x, N, m) * (1/4) * x ** (-3 / 4)\n",
    "    term2 = (x ** (1/4) - 0.2) * IRRf(x, N, m)\n",
    "    return (term1 - term2) / (IRR(x, N, m)**2)\n",
    "\n",
    "def hff(x, N, m):\n",
    "    term1 = IRR(x, N, m) * (-3 / 16 * x ** (-7/4))\n",
    "    term2 = IRRff(x, N, m) * (x**(1/4) - 0.2)\n",
    "    term3 = 2 * IRRf(x, N, m) * (1/4) * x ** (-3/4)\n",
    "    term4 = 2 * IRRf(x, N, m) ** 2 * (x ** (1/4) - 0.2)\n",
    "    h = (term1 - term2 - term3) / (IRR(x,N,m)**2) + term4 / (IRR(x,N,m)**3)\n",
    "    return h\n",
    "\n",
    "def integral1(x,N,m,F,disc,sigma,T):\n",
    "    h = hff(x, N, m)\n",
    "    Vrec=Black76Put(F, x, disc, sigma, T)\n",
    "    return h*Vrec\n",
    "\n",
    "def integral2(x,N,m,F,disc,sigma,T):\n",
    "    h = hff(x, N, m)\n",
    "    Vpay=Black76Call(F, x, disc, sigma, T)\n",
    "    return h*Vpay"
   ]
  },
  {
   "cell_type": "code",
   "execution_count": 4,
   "id": "45f7e8b2",
   "metadata": {},
   "outputs": [
    {
     "data": {
      "text/html": [
       "<div>\n",
       "<style scoped>\n",
       "    .dataframe tbody tr th:only-of-type {\n",
       "        vertical-align: middle;\n",
       "    }\n",
       "\n",
       "    .dataframe tbody tr th {\n",
       "        vertical-align: top;\n",
       "    }\n",
       "\n",
       "    .dataframe thead th {\n",
       "        text-align: right;\n",
       "    }\n",
       "</style>\n",
       "<table border=\"1\" class=\"dataframe\">\n",
       "  <thead>\n",
       "    <tr style=\"text-align: right;\">\n",
       "      <th></th>\n",
       "      <th>Start</th>\n",
       "      <th>Tenor</th>\n",
       "      <th>FS</th>\n",
       "      <th>DF</th>\n",
       "      <th>alpha</th>\n",
       "      <th>rho</th>\n",
       "      <th>nu</th>\n",
       "      <th>CMS</th>\n",
       "    </tr>\n",
       "  </thead>\n",
       "  <tbody>\n",
       "    <tr>\n",
       "      <th>0</th>\n",
       "      <td>0.5Y</td>\n",
       "      <td>10Y</td>\n",
       "      <td>0.037845</td>\n",
       "      <td>0.998752</td>\n",
       "      <td>0.171073</td>\n",
       "      <td>-0.264900</td>\n",
       "      <td>0.778199</td>\n",
       "      <td>0.038037</td>\n",
       "    </tr>\n",
       "    <tr>\n",
       "      <th>1</th>\n",
       "      <td>1Y</td>\n",
       "      <td>10Y</td>\n",
       "      <td>0.038428</td>\n",
       "      <td>0.997009</td>\n",
       "      <td>0.171073</td>\n",
       "      <td>-0.264900</td>\n",
       "      <td>0.778199</td>\n",
       "      <td>0.038844</td>\n",
       "    </tr>\n",
       "    <tr>\n",
       "      <th>2</th>\n",
       "      <td>1.5Y</td>\n",
       "      <td>10Y</td>\n",
       "      <td>0.039020</td>\n",
       "      <td>0.995270</td>\n",
       "      <td>0.171213</td>\n",
       "      <td>-0.280800</td>\n",
       "      <td>0.747216</td>\n",
       "      <td>0.039688</td>\n",
       "    </tr>\n",
       "    <tr>\n",
       "      <th>3</th>\n",
       "      <td>2Y</td>\n",
       "      <td>10Y</td>\n",
       "      <td>0.039634</td>\n",
       "      <td>0.993531</td>\n",
       "      <td>0.171354</td>\n",
       "      <td>-0.296700</td>\n",
       "      <td>0.716233</td>\n",
       "      <td>0.040582</td>\n",
       "    </tr>\n",
       "    <tr>\n",
       "      <th>4</th>\n",
       "      <td>2.5Y</td>\n",
       "      <td>10Y</td>\n",
       "      <td>0.040200</td>\n",
       "      <td>0.991773</td>\n",
       "      <td>0.171494</td>\n",
       "      <td>-0.312600</td>\n",
       "      <td>0.685251</td>\n",
       "      <td>0.041448</td>\n",
       "    </tr>\n",
       "    <tr>\n",
       "      <th>5</th>\n",
       "      <td>3Y</td>\n",
       "      <td>10Y</td>\n",
       "      <td>0.040788</td>\n",
       "      <td>0.990015</td>\n",
       "      <td>0.171635</td>\n",
       "      <td>-0.328500</td>\n",
       "      <td>0.654268</td>\n",
       "      <td>0.042359</td>\n",
       "    </tr>\n",
       "    <tr>\n",
       "      <th>6</th>\n",
       "      <td>3.5Y</td>\n",
       "      <td>10Y</td>\n",
       "      <td>0.041412</td>\n",
       "      <td>0.988066</td>\n",
       "      <td>0.171775</td>\n",
       "      <td>-0.344401</td>\n",
       "      <td>0.623285</td>\n",
       "      <td>0.043325</td>\n",
       "    </tr>\n",
       "    <tr>\n",
       "      <th>7</th>\n",
       "      <td>4Y</td>\n",
       "      <td>10Y</td>\n",
       "      <td>0.042062</td>\n",
       "      <td>0.986117</td>\n",
       "      <td>0.171916</td>\n",
       "      <td>-0.360301</td>\n",
       "      <td>0.592302</td>\n",
       "      <td>0.044335</td>\n",
       "    </tr>\n",
       "    <tr>\n",
       "      <th>8</th>\n",
       "      <td>4.5Y</td>\n",
       "      <td>10Y</td>\n",
       "      <td>0.042831</td>\n",
       "      <td>0.984150</td>\n",
       "      <td>0.172057</td>\n",
       "      <td>-0.376201</td>\n",
       "      <td>0.561320</td>\n",
       "      <td>0.045489</td>\n",
       "    </tr>\n",
       "    <tr>\n",
       "      <th>9</th>\n",
       "      <td>5Y</td>\n",
       "      <td>10Y</td>\n",
       "      <td>0.043634</td>\n",
       "      <td>0.982184</td>\n",
       "      <td>0.172197</td>\n",
       "      <td>-0.392101</td>\n",
       "      <td>0.530337</td>\n",
       "      <td>0.046695</td>\n",
       "    </tr>\n",
       "  </tbody>\n",
       "</table>\n",
       "</div>"
      ],
      "text/plain": [
       "  Start Tenor        FS        DF     alpha       rho        nu       CMS\n",
       "0  0.5Y   10Y  0.037845  0.998752  0.171073 -0.264900  0.778199  0.038037\n",
       "1    1Y   10Y  0.038428  0.997009  0.171073 -0.264900  0.778199  0.038844\n",
       "2  1.5Y   10Y  0.039020  0.995270  0.171213 -0.280800  0.747216  0.039688\n",
       "3    2Y   10Y  0.039634  0.993531  0.171354 -0.296700  0.716233  0.040582\n",
       "4  2.5Y   10Y  0.040200  0.991773  0.171494 -0.312600  0.685251  0.041448\n",
       "5    3Y   10Y  0.040788  0.990015  0.171635 -0.328500  0.654268  0.042359\n",
       "6  3.5Y   10Y  0.041412  0.988066  0.171775 -0.344401  0.623285  0.043325\n",
       "7    4Y   10Y  0.042062  0.986117  0.171916 -0.360301  0.592302  0.044335\n",
       "8  4.5Y   10Y  0.042831  0.984150  0.172057 -0.376201  0.561320  0.045489\n",
       "9    5Y   10Y  0.043634  0.982184  0.172197 -0.392101  0.530337  0.046695"
      ]
     },
     "execution_count": 4,
     "metadata": {},
     "output_type": "execute_result"
    }
   ],
   "source": [
    "data = pd.read_csv('CMS_10Y.csv', header = 0, index_col = 0)\n",
    "data"
   ]
  },
  {
   "cell_type": "code",
   "execution_count": 5,
   "id": "9c72c18e",
   "metadata": {},
   "outputs": [],
   "source": [
    "F = data.loc[9, 'FS']\n",
    "D = data.loc[9, 'DF']\n",
    "alpha = data.loc[9, 'alpha']\n",
    "beta = 0.9\n",
    "rho = data.loc[9, 'rho']\n",
    "nu = data.loc[9, 'nu']\n",
    "sigmasabr = SABR(F, 0.2, 5, alpha, beta, rho, nu)"
   ]
  },
  {
   "cell_type": "markdown",
   "id": "6213c698",
   "metadata": {},
   "source": [
    "### Part 1 \n",
    "> Value the payoff of $$CMS10y^{\\frac{1}{p}}-0.04^{\\frac{1}{q}}$$ The CMS tenor 5 years starts, tenor is 5 years."
   ]
  },
  {
   "cell_type": "code",
   "execution_count": 6,
   "id": "60657c42",
   "metadata": {},
   "outputs": [],
   "source": [
    "# def integral1(x,N,m,F,disc,sigma,T):\n",
    "#     h = hff(x, N, m)\n",
    "#     Vrec=Black76Put(F, x, disc, sigma, T)\n",
    "#     return h*Vrec\n",
    "\n",
    "# def integral2(x,N,m,F,disc,sigma,T):\n",
    "#     h = hff(x, N, m)\n",
    "#     Vpay=Black76Call(F, x, disc, sigma, T)\n",
    "#     return h*Vpay"
   ]
  },
  {
   "cell_type": "code",
   "execution_count": 8,
   "id": "ebccb87b",
   "metadata": {},
   "outputs": [],
   "source": [
    "# def Black76Call(S, K,disc, sigma, T):\n",
    "#     d1 = (np.log(S/K)+sigma**2/2*T) / (sigma*np.sqrt(T))\n",
    "#     d2 = d1 - sigma*np.sqrt(T)\n",
    "#     return disc*(S*norm.cdf(d1) - K*norm.cdf(d2))\n",
    "\n",
    "def Black76Put(S, K, disc,sigma, T):\n",
    "    d1 = (np.log(S/K)+sigma**2/2*T) / (sigma*np.sqrt(T))\n",
    "    d2 = d1 - sigma*np.sqrt(T)\n",
    "    return disc*(K*norm.cdf(-d2) - S*norm.cdf(-d1))"
   ]
  },
  {
   "cell_type": "code",
   "execution_count": 9,
   "id": "14479d3a",
   "metadata": {},
   "outputs": [
    {
     "data": {
      "text/plain": [
       "2.3185575216968592"
      ]
     },
     "execution_count": 9,
     "metadata": {},
     "output_type": "execute_result"
    }
   ],
   "source": [
    "Black76Put(100, 80, 0.03, 2.5,3)"
   ]
  },
  {
   "cell_type": "code",
   "execution_count": 1,
   "id": "b1511719",
   "metadata": {},
   "outputs": [
    {
     "ename": "NameError",
     "evalue": "name 'F' is not defined",
     "output_type": "error",
     "traceback": [
      "\u001b[0;31m---------------------------------------------------------------------------\u001b[0m",
      "\u001b[0;31mNameError\u001b[0m                                 Traceback (most recent call last)",
      "Cell \u001b[0;32mIn[1], line 3\u001b[0m\n\u001b[1;32m      1\u001b[0m p \u001b[38;5;241m=\u001b[39m \u001b[38;5;241m4\u001b[39m\n\u001b[1;32m      2\u001b[0m q\u001b[38;5;241m=\u001b[39m\u001b[38;5;241m2\u001b[39m\n\u001b[0;32m----> 3\u001b[0m term1 \u001b[38;5;241m=\u001b[39m \u001b[43mF\u001b[49m\n\u001b[1;32m      4\u001b[0m term3 \u001b[38;5;241m=\u001b[39m quad(\u001b[38;5;28;01mlambda\u001b[39;00m x: integral1(x, \u001b[38;5;241m10\u001b[39m, \u001b[38;5;241m2\u001b[39m, F, IRR(F, \u001b[38;5;241m10\u001b[39m, \u001b[38;5;241m2\u001b[39m), sigmasabr, \u001b[38;5;241m5\u001b[39m), \u001b[38;5;241m0\u001b[39m, F)\n\u001b[1;32m      5\u001b[0m term4 \u001b[38;5;241m=\u001b[39m quad(\u001b[38;5;28;01mlambda\u001b[39;00m x: integral2(x, \u001b[38;5;241m10\u001b[39m, \u001b[38;5;241m2\u001b[39m, F, IRR(F, \u001b[38;5;241m10\u001b[39m, \u001b[38;5;241m2\u001b[39m), sigmasabr, \u001b[38;5;241m5\u001b[39m), F, np\u001b[38;5;241m.\u001b[39minf)\n",
      "\u001b[0;31mNameError\u001b[0m: name 'F' is not defined"
     ]
    }
   ],
   "source": [
    "p = 4\n",
    "q=2\n",
    "term1 = F\n",
    "term3 = quad(lambda x: integral1(x, 10, 2, F, IRR(F, 10, 2), sigmasabr, 5), 0, F)\n",
    "term4 = quad(lambda x: integral2(x, 10, 2, F, IRR(F, 10, 2), sigmasabr, 5), F, np.inf)\n",
    "PVoption = ((term1 + np.sum(term3 + term4))**(1/p) - (0.04)**(1/q))*D"
   ]
  },
  {
   "cell_type": "code",
   "execution_count": 2,
   "id": "b3e5508f",
   "metadata": {
    "scrolled": true
   },
   "outputs": [
    {
     "ename": "NameError",
     "evalue": "name 'PVoption' is not defined",
     "output_type": "error",
     "traceback": [
      "\u001b[0;31m---------------------------------------------------------------------------\u001b[0m",
      "\u001b[0;31mNameError\u001b[0m                                 Traceback (most recent call last)",
      "Cell \u001b[0;32mIn[2], line 1\u001b[0m\n\u001b[0;32m----> 1\u001b[0m \u001b[43mPVoption\u001b[49m\n",
      "\u001b[0;31mNameError\u001b[0m: name 'PVoption' is not defined"
     ]
    }
   ],
   "source": [
    "PVoption"
   ]
  },
  {
   "cell_type": "markdown",
   "id": "51b5b23c",
   "metadata": {},
   "source": [
    "### Part 2\n",
    ">Value the payoff of $$(CMS10y^{\\frac{1}{p}}-0.04^{\\frac{1}{q}})^{+}$$"
   ]
  },
  {
   "cell_type": "code",
   "execution_count": 3,
   "id": "9bb7811a",
   "metadata": {},
   "outputs": [],
   "source": [
    "L = 0.0016"
   ]
  },
  {
   "cell_type": "code",
   "execution_count": 4,
   "id": "15edc264",
   "metadata": {},
   "outputs": [
    {
     "ename": "NameError",
     "evalue": "name 'hf' is not defined",
     "output_type": "error",
     "traceback": [
      "\u001b[0;31m---------------------------------------------------------------------------\u001b[0m",
      "\u001b[0;31mNameError\u001b[0m                                 Traceback (most recent call last)",
      "Cell \u001b[0;32mIn[4], line 1\u001b[0m\n\u001b[0;32m----> 1\u001b[0m term5 \u001b[38;5;241m=\u001b[39m \u001b[43mhf\u001b[49m(\u001b[38;5;241m0.0016\u001b[39m, \u001b[38;5;241m10\u001b[39m, \u001b[38;5;241m2\u001b[39m) \u001b[38;5;241m*\u001b[39m Black76Call(F, \u001b[38;5;241m0.0016\u001b[39m, IRR(F, \u001b[38;5;241m10\u001b[39m, \u001b[38;5;241m2\u001b[39m), sigmasabr, \u001b[38;5;241m5\u001b[39m)\n\u001b[1;32m      2\u001b[0m term6 \u001b[38;5;241m=\u001b[39m quad(\u001b[38;5;28;01mlambda\u001b[39;00m x: integral2(x, \u001b[38;5;241m10\u001b[39m, \u001b[38;5;241m2\u001b[39m, F, IRR(F, \u001b[38;5;241m10\u001b[39m, \u001b[38;5;241m2\u001b[39m), sigmasabr, \u001b[38;5;241m5\u001b[39m), \u001b[38;5;241m0.0016\u001b[39m, np\u001b[38;5;241m.\u001b[39minf)\n\u001b[1;32m      3\u001b[0m PVoption2 \u001b[38;5;241m=\u001b[39m (term5 \u001b[38;5;241m+\u001b[39m np\u001b[38;5;241m.\u001b[39msum(term6))\u001b[38;5;241m+\u001b[39m D\u001b[38;5;241m*\u001b[39m(F\u001b[38;5;241m-\u001b[39mL)\n",
      "\u001b[0;31mNameError\u001b[0m: name 'hf' is not defined"
     ]
    }
   ],
   "source": [
    "term5 = hf(0.0016, 10, 2) * Black76Call(F, 0.0016, IRR(F, 10, 2), sigmasabr, 5)\n",
    "term6 = quad(lambda x: integral2(x, 10, 2, F, IRR(F, 10, 2), sigmasabr, 5), 0.0016, np.inf)\n",
    "PVoption2 = (term5 + np.sum(term6))+ D*(F-L)"
   ]
  },
  {
   "cell_type": "code",
   "execution_count": 5,
   "id": "eab0996b",
   "metadata": {},
   "outputs": [
    {
     "ename": "NameError",
     "evalue": "name 'PVoption2' is not defined",
     "output_type": "error",
     "traceback": [
      "\u001b[0;31m---------------------------------------------------------------------------\u001b[0m",
      "\u001b[0;31mNameError\u001b[0m                                 Traceback (most recent call last)",
      "Cell \u001b[0;32mIn[5], line 1\u001b[0m\n\u001b[0;32m----> 1\u001b[0m \u001b[43mPVoption2\u001b[49m\n",
      "\u001b[0;31mNameError\u001b[0m: name 'PVoption2' is not defined"
     ]
    }
   ],
   "source": [
    "PVoption2"
   ]
  },
  {
   "cell_type": "code",
   "execution_count": null,
   "id": "f29ef080",
   "metadata": {},
   "outputs": [],
   "source": []
  },
  {
   "cell_type": "code",
   "execution_count": null,
   "id": "d5d689fd",
   "metadata": {},
   "outputs": [],
   "source": []
  },
  {
   "cell_type": "code",
   "execution_count": null,
   "id": "e066574c",
   "metadata": {},
   "outputs": [],
   "source": []
  },
  {
   "cell_type": "code",
   "execution_count": null,
   "id": "5ba64c24",
   "metadata": {},
   "outputs": [],
   "source": []
  },
  {
   "cell_type": "code",
   "execution_count": null,
   "id": "8ce57a00",
   "metadata": {},
   "outputs": [],
   "source": []
  },
  {
   "cell_type": "code",
   "execution_count": null,
   "id": "e51096b1",
   "metadata": {},
   "outputs": [],
   "source": []
  },
  {
   "cell_type": "code",
   "execution_count": null,
   "id": "9deaf380",
   "metadata": {},
   "outputs": [],
   "source": []
  },
  {
   "cell_type": "code",
   "execution_count": null,
   "id": "e26d2195",
   "metadata": {},
   "outputs": [],
   "source": []
  },
  {
   "cell_type": "code",
   "execution_count": null,
   "id": "1f651797",
   "metadata": {},
   "outputs": [],
   "source": []
  },
  {
   "cell_type": "code",
   "execution_count": null,
   "id": "d05403b3",
   "metadata": {},
   "outputs": [],
   "source": []
  },
  {
   "cell_type": "code",
   "execution_count": null,
   "id": "eb063b47",
   "metadata": {},
   "outputs": [],
   "source": []
  },
  {
   "cell_type": "code",
   "execution_count": null,
   "id": "f6b46f52",
   "metadata": {},
   "outputs": [],
   "source": []
  },
  {
   "cell_type": "code",
   "execution_count": null,
   "id": "5e2fcda4",
   "metadata": {},
   "outputs": [],
   "source": []
  },
  {
   "cell_type": "code",
   "execution_count": null,
   "id": "0bc17682",
   "metadata": {},
   "outputs": [],
   "source": []
  },
  {
   "cell_type": "code",
   "execution_count": null,
   "id": "7fd369ae",
   "metadata": {},
   "outputs": [],
   "source": []
  },
  {
   "cell_type": "code",
   "execution_count": null,
   "id": "de635497",
   "metadata": {},
   "outputs": [],
   "source": []
  },
  {
   "cell_type": "code",
   "execution_count": null,
   "id": "870277a8",
   "metadata": {},
   "outputs": [],
   "source": []
  },
  {
   "cell_type": "code",
   "execution_count": null,
   "id": "2a5578e1",
   "metadata": {},
   "outputs": [],
   "source": []
  }
 ],
 "metadata": {
  "kernelspec": {
   "display_name": "Python 3 (ipykernel)",
   "language": "python",
   "name": "python3"
  },
  "language_info": {
   "codemirror_mode": {
    "name": "ipython",
    "version": 3
   },
   "file_extension": ".py",
   "mimetype": "text/x-python",
   "name": "python",
   "nbconvert_exporter": "python",
   "pygments_lexer": "ipython3",
   "version": "3.9.13"
  }
 },
 "nbformat": 4,
 "nbformat_minor": 5
}
